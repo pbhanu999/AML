{
 "cells": [
  {
   "cell_type": "markdown",
   "metadata": {},
   "source": [
    "# If else Statement Example"
   ]
  },
  {
   "cell_type": "code",
   "execution_count": 1,
   "metadata": {},
   "outputs": [
    {
     "name": "stdout",
     "output_type": "stream",
     "text": [
      "largest among 3 numbers is 19,\n"
     ]
    }
   ],
   "source": [
    "a = 10\n",
    "b = 19\n",
    "c = 7\n",
    "if (a>=b) and (a>=c):\n",
    "    largest = a\n",
    "elif (b>=a) and (b>=c):\n",
    "    largest = b\n",
    "else:\n",
    "    largest = c\n",
    "print(\"largest among 3 numbers is {},\" .format(largest))"
   ]
  },
  {
   "cell_type": "markdown",
   "metadata": {},
   "source": [
    "# While Loop"
   ]
  },
  {
   "cell_type": "code",
   "execution_count": 5,
   "metadata": {},
   "outputs": [
    {
     "name": "stdout",
     "output_type": "stream",
     "text": [
      "enter the number:20\n",
      "20 is divisble by 2\n",
      "20 is divisble by 4\n",
      "20 is divisble by 5\n",
      "20 is divisble by 10\n",
      " 20 is not a prime number\n"
     ]
    }
   ],
   "source": [
    "num = int(input(\"enter the number:\" ))\n",
    "\n",
    "isdivisible = False;\n",
    "i = 2;\n",
    "\n",
    "while i < num:\n",
    "    if num % i == 0:\n",
    "        isdivisible = True;\n",
    "        print(\"{} is divisble by {}\" .format(num,i))\n",
    "    i += 1;\n",
    "\n",
    "if isdivisible:\n",
    "    print(\" {} is not a prime number\" .format(num))\n",
    "else:\n",
    "    print(\"{} is the prime number\" .format(num))\n",
    "\n"
   ]
  },
  {
   "cell_type": "markdown",
   "metadata": {},
   "source": [
    "# Python for Loop"
   ]
  },
  {
   "cell_type": "code",
   "execution_count": 11,
   "metadata": {},
   "outputs": [
    {
     "name": "stdout",
     "output_type": "stream",
     "text": [
      "Prime numbers between 900 and 1000 are:\n",
      "907\n",
      "911\n",
      "919\n",
      "929\n",
      "937\n",
      "941\n",
      "947\n",
      "953\n",
      "967\n",
      "971\n",
      "977\n",
      "983\n",
      "991\n",
      "997\n"
     ]
    }
   ],
   "source": [
    "lower = 900\n",
    "upper = 1000\n",
    "\n",
    "print(\"Prime numbers between\",lower,\"and\",upper,\"are:\")\n",
    "\n",
    "for num in range(lower,upper + 1):\n",
    "   # prime numbers are greater than 1\n",
    "   if num > 1:\n",
    "       for i in range(2,num):\n",
    "           if (num % i) == 0:\n",
    "               break\n",
    "       else:\n",
    "           print(num)\n"
   ]
  },
  {
   "cell_type": "markdown",
   "metadata": {},
   "source": [
    "# Functions"
   ]
  },
  {
   "cell_type": "code",
   "execution_count": 29,
   "metadata": {},
   "outputs": [
    {
     "name": "stdout",
     "output_type": "stream",
     "text": [
      "select option:\n",
      "1.add\n",
      "2.mult\n",
      "3.sub\n",
      "4.div\n",
      "enter the choice 1/2/3/4 : 2\n",
      "enter first number:9\n",
      "enter second number:9\n",
      "multipication of 9.0 and 9.0 is 81.0\n"
     ]
    }
   ],
   "source": [
    "def add(a , b):\n",
    "    return a+b\n",
    "def multiply(a , b):\n",
    "    return a*b\n",
    "def sub(a,b):\n",
    "    return a-b\n",
    "def div(a,b):\n",
    "    return a/b\n",
    "\n",
    "print(\"select option:\")\n",
    "print(\"1.add\")\n",
    "print(\"2.mult\")\n",
    "print(\"3.sub\")\n",
    "print(\"4.div\")\n",
    "\n",
    "choice = int(input(\"enter the choice 1/2/3/4 : \"))\n",
    "num1 = float(input(\"enter first number:\"))\n",
    "num2 = float(input(\"enter second number:\"))\n",
    "if choice ==1:\n",
    "    print(\"Addition of {} and {} is {}\".format(num1,num2,add(num1,num2)))\n",
    "elif choice == 2:\n",
    "    print(\"multipication of {} and {} is {}\".format(num1,num2,multiply(num1,num2)))\n",
    "elif choice == 3:\n",
    "    print(\"Sub of {} and {} is {}\".format(num1,num2,sub(num1,num2)))\n",
    "elif choice == 4:\n",
    "    print(\"div of {} and {} is {}\".format(num1,num2,div(num1,num2)))\n",
    "else:\n",
    "    print(\"invalid choice\")"
   ]
  },
  {
   "cell_type": "markdown",
   "metadata": {},
   "source": [
    " # Lambda Function"
   ]
  },
  {
   "cell_type": "code",
   "execution_count": null,
   "metadata": {},
   "outputs": [],
   "source": [
    "#filter() Map() Reduce()\n",
    "\n",
    "lst = [1,2,3,4,5]\n",
    "even = list(filter(lambda x: (x%2 == 0),lst))\n",
    "\n",
    "new_list = list(map(lambda x: x**2 ,lst))\n",
    "\n",
    "from functools import reduce\n",
    "prod_lst = reduce(lambda x,y: x*y,lst)\n",
    "prod_lst"
   ]
  },
  {
   "cell_type": "code",
   "execution_count": null,
   "metadata": {},
   "outputs": [],
   "source": []
  }
 ],
 "metadata": {
  "kernelspec": {
   "display_name": "Python 3",
   "language": "python",
   "name": "python3"
  },
  "language_info": {
   "codemirror_mode": {
    "name": "ipython",
    "version": 3
   },
   "file_extension": ".py",
   "mimetype": "text/x-python",
   "name": "python",
   "nbconvert_exporter": "python",
   "pygments_lexer": "ipython3",
   "version": "3.6.7"
  }
 },
 "nbformat": 4,
 "nbformat_minor": 2
}
