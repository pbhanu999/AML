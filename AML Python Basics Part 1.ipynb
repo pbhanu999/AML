{
 "cells": [
  {
   "cell_type": "markdown",
   "metadata": {},
   "source": [
    "# Applied Machine Learning Basics\n",
    "\n",
    "## Python Keywords"
   ]
  },
  {
   "cell_type": "code",
   "execution_count": 8,
   "metadata": {},
   "outputs": [
    {
     "name": "stdout",
     "output_type": "stream",
     "text": [
      "['False', 'None', 'True', 'and', 'as', 'assert', 'break', 'class', 'continue', 'def', 'del', 'elif', 'else', 'except', 'finally', 'for', 'from', 'global', 'if', 'import', 'in', 'is', 'lambda', 'nonlocal', 'not', 'or', 'pass', 'raise', 'return', 'try', 'while', 'with', 'yield']\n",
      "\n",
      "\n",
      " Total no. of keywords : 33\n"
     ]
    }
   ],
   "source": [
    "import keyword\n",
    "\n",
    "print(keyword.kwlist)\n",
    "\n",
    "print(\"\\n\\n Total no. of keywords :\" , len(keyword.kwlist))"
   ]
  },
  {
   "cell_type": "markdown",
   "metadata": {},
   "source": [
    "# Identifiers\n",
    "\n",
    "Indentifier is the name given to entities like classes , functions , variables\n",
    "\n",
    "Rules\n",
    "\n",
    "->  identifiers can be lower case , upper case, digits, or an underscore\n",
    "\n",
    "-> An identifier cannot start with an digit\n",
    "\n",
    "-> keywords cannot be used as identifier\n",
    "\n",
    "-> we cannot use special symbols like @ # $ % etc"
   ]
  },
  {
   "cell_type": "code",
   "execution_count": 10,
   "metadata": {},
   "outputs": [
    {
     "data": {
      "text/plain": [
       "'online store'"
      ]
     },
     "execution_count": 10,
     "metadata": {},
     "output_type": "execute_result"
    }
   ],
   "source": [
    "picksy = \"online store\";\n",
    "picksy"
   ]
  },
  {
   "cell_type": "markdown",
   "metadata": {},
   "source": [
    "# Comments "
   ]
  },
  {
   "cell_type": "code",
   "execution_count": 11,
   "metadata": {},
   "outputs": [
    {
     "name": "stdout",
     "output_type": "stream",
     "text": [
      "hello world\n"
     ]
    }
   ],
   "source": [
    "# Print hello world\n",
    "print(\"hello world\")"
   ]
  },
  {
   "cell_type": "markdown",
   "metadata": {},
   "source": [
    "### Multi line comment"
   ]
  },
  {
   "cell_type": "code",
   "execution_count": 13,
   "metadata": {},
   "outputs": [
    {
     "data": {
      "text/plain": [
       "' \\nmulti line\\ncomments using\\ntriple quotes\\n\\n'"
      ]
     },
     "execution_count": 13,
     "metadata": {},
     "output_type": "execute_result"
    }
   ],
   "source": [
    "''' \n",
    "multi line\n",
    "comments using\n",
    "triple quotes\n",
    "\n",
    "'''"
   ]
  },
  {
   "cell_type": "markdown",
   "metadata": {},
   "source": [
    "### Indentation\n"
   ]
  },
  {
   "cell_type": "code",
   "execution_count": 21,
   "metadata": {},
   "outputs": [
    {
     "name": "stdout",
     "output_type": "stream",
     "text": [
      "10\n",
      "11\n",
      "12\n",
      "13\n",
      "14\n",
      "15\n",
      "16\n",
      "17\n",
      "18\n",
      "19\n",
      "\n",
      "Machine Learning\n"
     ]
    }
   ],
   "source": [
    "for i in range(10):\n",
    "    print(i+10)\n",
    "if True:\n",
    "    print(\"\\nMachine Learning\")\n",
    "    "
   ]
  },
  {
   "cell_type": "markdown",
   "metadata": {},
   "source": [
    "## Multi line Statement"
   ]
  },
  {
   "cell_type": "code",
   "execution_count": 31,
   "metadata": {},
   "outputs": [
    {
     "name": "stdout",
     "output_type": "stream",
     "text": [
      "a= 21\n",
      "b= 21\n",
      "10\n"
     ]
    }
   ],
   "source": [
    "a = 1+2+3+4+\\\n",
    "    5+6\n",
    "print(\"a=\", a)\n",
    "b = (1+2+3+4+\n",
    "    5+6)\n",
    "print(\"b=\" ,b)\n",
    "c = 10; d = 20; e =30 # multiple staments in single line using \"; \"\n",
    "print(c)"
   ]
  },
  {
   "cell_type": "markdown",
   "metadata": {},
   "source": [
    "## Variable Assignments"
   ]
  },
  {
   "cell_type": "code",
   "execution_count": 32,
   "metadata": {},
   "outputs": [
    {
     "name": "stdout",
     "output_type": "stream",
     "text": [
      "picksy\n",
      "picksy\n",
      "picksy\n"
     ]
    }
   ],
   "source": [
    "a = 10\n",
    "b = 9.9\n",
    "c = \"picksy\"\n",
    "# Multiple Assignments\n",
    "e , f , g = 10 , 9.9 , \"picksy\"\n",
    "# Same Value for multiple variables\n",
    "h = i = j = \"picksy\"\n",
    "print(c)\n",
    "print(g)\n",
    "print(i)"
   ]
  },
  {
   "cell_type": "markdown",
   "metadata": {},
   "source": [
    "## Strings"
   ]
  },
  {
   "cell_type": "code",
   "execution_count": 39,
   "metadata": {},
   "outputs": [
    {
     "name": "stdout",
     "output_type": "stream",
     "text": [
      "Picksy online\n",
      "    Store <class 'str'>\n",
      "Picksy <class 'str'>\n",
      "c\n"
     ]
    }
   ],
   "source": [
    "s = \"Picksy\"\n",
    "y = \"\"\"Picksy online\n",
    "    Store\"\"\"\n",
    "print(y,type(y))\n",
    "print(s , type(s))\n",
    "print(s[2])"
   ]
  },
  {
   "cell_type": "code",
   "execution_count": 46,
   "metadata": {},
   "outputs": [
    {
     "name": "stdout",
     "output_type": "stream",
     "text": [
      "icksy\n",
      "Picks\n",
      "ick\n"
     ]
    }
   ],
   "source": [
    "# Slicing\n",
    "print(s[1:])\n",
    "print(s[:-1])\n",
    "print(s[1:4])"
   ]
  },
  {
   "cell_type": "markdown",
   "metadata": {},
   "source": [
    "# Python Lists\n"
   ]
  },
  {
   "cell_type": "code",
   "execution_count": 56,
   "metadata": {},
   "outputs": [
    {
     "name": "stdout",
     "output_type": "stream",
     "text": [
      "[1, 2, 9.9, 'picksy']\n",
      "picksy\n"
     ]
    },
    {
     "data": {
      "text/plain": [
       "[1, 2, 9.9, 'picksy online store']"
      ]
     },
     "execution_count": 56,
     "metadata": {},
     "output_type": "execute_result"
    }
   ],
   "source": [
    "a = [1,2,9.9,\"picksy\"]\n",
    "print(a)\n",
    "print(a[3])\n",
    "a[3] = \"picksy online store\"  # Data can be Altered as needed\n",
    "a"
   ]
  },
  {
   "cell_type": "markdown",
   "metadata": {},
   "source": [
    "# Python Tuple\n",
    "\n",
    "Tuples are ordered and immutable , once created cannot ne altered "
   ]
  },
  {
   "cell_type": "code",
   "execution_count": 57,
   "metadata": {},
   "outputs": [
    {
     "data": {
      "text/plain": [
       "'picksy'"
      ]
     },
     "execution_count": 57,
     "metadata": {},
     "output_type": "execute_result"
    }
   ],
   "source": [
    "t = (1 , 3 , \"picksy\")\n",
    "t[2]  "
   ]
  },
  {
   "cell_type": "markdown",
   "metadata": {},
   "source": [
    "# Python Sets\n",
    "set is unordered collection of unique items"
   ]
  },
  {
   "cell_type": "code",
   "execution_count": 61,
   "metadata": {},
   "outputs": [
    {
     "name": "stdout",
     "output_type": "stream",
     "text": [
      "{1, 99, 999, 9, 11}\n",
      "<class 'set'>\n"
     ]
    }
   ],
   "source": [
    "a = { 1 , 9 , 11 , 99 , 999}\n",
    "print(a)\n",
    "print(type(a))"
   ]
  },
  {
   "cell_type": "markdown",
   "metadata": {},
   "source": [
    "# Python Dictionaries"
   ]
  },
  {
   "cell_type": "markdown",
   "metadata": {},
   "source": [
    "Dictionary is an unordered collection of key value pairs"
   ]
  },
  {
   "cell_type": "code",
   "execution_count": 65,
   "metadata": {},
   "outputs": [
    {
     "name": "stdout",
     "output_type": "stream",
     "text": [
      "Online Store\n"
     ]
    }
   ],
   "source": [
    "d = {\"a\": \"Picksy\", \"b\" : \"Online Store\"}\n",
    "print(d[\"b\"])"
   ]
  },
  {
   "cell_type": "markdown",
   "metadata": {},
   "source": [
    "# Datatype Conversions "
   ]
  },
  {
   "cell_type": "code",
   "execution_count": 67,
   "metadata": {},
   "outputs": [
    {
     "name": "stdout",
     "output_type": "stream",
     "text": [
      "9.0\n",
      "9\n"
     ]
    },
    {
     "data": {
      "text/plain": [
       "'99'"
      ]
     },
     "execution_count": 67,
     "metadata": {},
     "output_type": "execute_result"
    }
   ],
   "source": [
    "#int to float\n",
    "print(float(9))\n",
    "#float to int\n",
    "print(int(9.9))\n",
    "#int to string\n",
    "str(99)"
   ]
  },
  {
   "cell_type": "code",
   "execution_count": 84,
   "metadata": {},
   "outputs": [
    {
     "name": "stdout",
     "output_type": "stream",
     "text": [
      "online store Picksy! is the 9th store\n"
     ]
    }
   ],
   "source": [
    "# to combine string with integers\n",
    "website = \"Picksy\"\n",
    "store = 9 \n",
    "print(\"online store \" + website + \"! is the \"  + str(store) + \"th store\")"
   ]
  },
  {
   "cell_type": "code",
   "execution_count": 85,
   "metadata": {},
   "outputs": [
    {
     "data": {
      "text/plain": [
       "['p', 'i', 'c', 'k', 's', 'y']"
      ]
     },
     "execution_count": 85,
     "metadata": {},
     "output_type": "execute_result"
    }
   ],
   "source": [
    "# Convert string to list\n",
    "list(\"picksy\")"
   ]
  },
  {
   "cell_type": "markdown",
   "metadata": {},
   "source": [
    "# Output Formatting\""
   ]
  },
  {
   "cell_type": "code",
   "execution_count": 87,
   "metadata": {},
   "outputs": [
    {
     "name": "stdout",
     "output_type": "stream",
     "text": [
      "the vallue of a is 9 & b is 99 \n"
     ]
    }
   ],
   "source": [
    "a = 9\n",
    "b = 99\n",
    "print(\"the vallue of a is {} & b is {} \".format(a,b))"
   ]
  },
  {
   "cell_type": "code",
   "execution_count": 88,
   "metadata": {},
   "outputs": [
    {
     "name": "stdout",
     "output_type": "stream",
     "text": [
      "hello picksy,welcome to online store\n"
     ]
    }
   ],
   "source": [
    "print(\"hello {name},{greetings}\".format(name=\"picksy\",greetings=\"welcome to online store\"))"
   ]
  },
  {
   "cell_type": "markdown",
   "metadata": {},
   "source": [
    "# python input"
   ]
  },
  {
   "cell_type": "code",
   "execution_count": 89,
   "metadata": {},
   "outputs": [
    {
     "name": "stdout",
     "output_type": "stream",
     "text": [
      "Enter your age: 25\n",
      "25\n"
     ]
    }
   ],
   "source": [
    "age = input(\"Enter your age: \")\n",
    "print(age)"
   ]
  },
  {
   "cell_type": "markdown",
   "metadata": {},
   "source": [
    "# Operators\n"
   ]
  },
  {
   "cell_type": "code",
   "execution_count": 97,
   "metadata": {},
   "outputs": [
    {
     "name": "stdout",
     "output_type": "stream",
     "text": [
      "100000000000000000000\n",
      "True\n",
      "True\n",
      "True\n"
     ]
    }
   ],
   "source": [
    "x = 10 \n",
    "y = 20\n",
    "print(x ** y)\n",
    "print(x <= y)      #comparison\n",
    "a , b = True , False #logical operators\n",
    "print(a or b)\n",
    "\n",
    "list = [ 1, 2, 3, 4]\n",
    "print(1 in list) #checking wanted value is present in the list"
   ]
  },
  {
   "cell_type": "code",
   "execution_count": null,
   "metadata": {},
   "outputs": [],
   "source": []
  }
 ],
 "metadata": {
  "kernelspec": {
   "display_name": "Python 3",
   "language": "python",
   "name": "python3"
  },
  "language_info": {
   "codemirror_mode": {
    "name": "ipython",
    "version": 3
   },
   "file_extension": ".py",
   "mimetype": "text/x-python",
   "name": "python",
   "nbconvert_exporter": "python",
   "pygments_lexer": "ipython3",
   "version": "3.6.7"
  }
 },
 "nbformat": 4,
 "nbformat_minor": 2
}
